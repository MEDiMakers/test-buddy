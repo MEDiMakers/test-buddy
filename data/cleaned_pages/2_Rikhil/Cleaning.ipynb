{
 "cells": [
  {
   "cell_type": "code",
   "execution_count": 39,
   "metadata": {},
   "outputs": [],
   "source": [
    "import glob,os\n",
    "import spacy\n",
    "import json\n",
    "from pathlib import Path\n",
    "import re"
   ]
  },
  {
   "cell_type": "code",
   "execution_count": 15,
   "metadata": {},
   "outputs": [],
   "source": [
    "nlp = spacy.load('en_core_web_sm')"
   ]
  },
  {
   "cell_type": "code",
   "execution_count": 1,
   "metadata": {},
   "outputs": [],
   "source": [
    "path = r\"C:\\Users\\acer\\Downloads\\MEDiMakers test-buddy main data-page_texts_2_rikhil\""
   ]
  },
  {
   "cell_type": "code",
   "execution_count": 10,
   "metadata": {},
   "outputs": [],
   "source": [
    "file_paths = []\n",
    "for f in os.listdir(path):\n",
    "    file_paths.append((os.path.join(path,f)))"
   ]
  },
  {
   "cell_type": "code",
   "execution_count": 47,
   "metadata": {},
   "outputs": [],
   "source": [
    "for file in file_paths:\n",
    "    name = Path(file).stem \n",
    "    data = {}\n",
    "    info = {}\n",
    "    with open(file,'r',encoding='utf-8') as f:\n",
    "        text = \"\".join((f.readlines()))\n",
    "        cleaned_txt = (\".\\n\".join(text.split(\". \")))\n",
    "        info[\"Text\"] = cleaned_txt \n",
    "        info[\"Page\"] = (int(re.findall('\\d+',name)[0]))\n",
    "        #sentences = [i.text for i in nlp(text).sents] \n",
    "        #print(\"\\n\".join(sentences))\n",
    "        data[name] = info \n",
    "    with open(f\"{name}.json\",'w') as g:\n",
    "        json.dump(data,g)"
   ]
  }
 ],
 "metadata": {
  "kernelspec": {
   "display_name": "Python 3",
   "language": "python",
   "name": "python3"
  },
  "language_info": {
   "codemirror_mode": {
    "name": "ipython",
    "version": 3
   },
   "file_extension": ".py",
   "mimetype": "text/x-python",
   "name": "python",
   "nbconvert_exporter": "python",
   "pygments_lexer": "ipython3",
   "version": "3.11.4"
  }
 },
 "nbformat": 4,
 "nbformat_minor": 2
}
