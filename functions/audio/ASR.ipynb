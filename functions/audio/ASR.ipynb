{
 "cells": [
  {
   "cell_type": "code",
   "execution_count": null,
   "metadata": {},
   "outputs": [],
   "source": [
    "#https://github.com/KoljaB/RealtimeSTT"
   ]
  },
  {
   "cell_type": "code",
   "execution_count": 10,
   "metadata": {},
   "outputs": [
    {
     "name": "stdout",
     "output_type": "stream",
     "text": [
      " based on your symptoms it appears that you have got causing the information in your joints this can be remedied using you can profit which you have to take five hundred million three times a day the exact timings would be fixed by your nurse\n"
     ]
    }
   ],
   "source": [
    "import os\n",
    "from groq import Groq\n",
    "GROQ_API__KEY=\"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\"\n",
    "client = Groq(api_key = GROQ_API__KEY)\n",
    "current_directory = os.getcwd()\n",
    "filename = current_directory + \"\\\\examples\\\\en_output_1.wav\"\n",
    "\n",
    "with open(filename, \"rb\") as file:\n",
    "    transcription = client.audio.transcriptions.create(\n",
    "      file=(filename, file.read()),\n",
    "      model=\"whisper-large-v3\",\n",
    "      prompt=\"Specify context or spelling\",  # Optional\n",
    "      response_format=\"json\",  # Optional\n",
    "      language=\"en\",  # Optional\n",
    "      temperature=0.0  # Optional\n",
    "    )\n",
    "    print(transcription.text)"
   ]
  }
 ],
 "metadata": {
  "kernelspec": {
   "display_name": "llm",
   "language": "python",
   "name": "python3"
  },
  "language_info": {
   "codemirror_mode": {
    "name": "ipython",
    "version": 3
   },
   "file_extension": ".py",
   "mimetype": "text/x-python",
   "name": "python",
   "nbconvert_exporter": "python",
   "pygments_lexer": "ipython3",
   "version": "3.11.5"
  }
 },
 "nbformat": 4,
 "nbformat_minor": 2
}
