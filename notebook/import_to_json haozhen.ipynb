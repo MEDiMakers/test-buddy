{
 "cells": [
  {
   "cell_type": "code",
   "execution_count": 17,
   "metadata": {},
   "outputs": [],
   "source": [
    "import pandas as pd\n",
    "import json\n",
    "import os"
   ]
  },
  {
   "cell_type": "code",
   "execution_count": 16,
   "metadata": {},
   "outputs": [
    {
     "name": "stdout",
     "output_type": "stream",
     "text": [
      "At the time of a sudden cardiac arrest, the most common underlying cardiac rhythm is an irregular and chaotic electrical rhythm (shockable rhythms) called Ventricular Fibrillation (VF) or Ventricular Tachycardia (VT) without pulse. However, not all cardiac arrests present as Ventricular Fibrillation and may appear as other electrical rhythms (for example, asystole which is non-shockable). During Ventricular Fibrillation, the heart muscles do not contract effectively and delivery of blood to the rest of the body ceases. The treatment for Ventricular Fibrillation is a shock administered using an Automated External Defibrillator (AED). This shock, together with chest compressions, will reinstate normal heart rhythm and contractility if administered as soon as possible (within 4 minutes). The survival rate decreases by 7-10% for every minute of delay in treating Ventricular Fibrillation. If delayed or untreated, Ventricular Fibrillation eventually degenerates into a fatal rhythm known as asystole where the heart has no electrical activity as reflected by a flat line tracing. At this juncture, the only treatment possible is to administer Cardiopulmonary Resuscitation (CPR). In the past, only trained doctors, nurses, and paramedics could perform manual defibrillation as it requires the operator to recognize the cardiac rhythm of the casualty, whether it is shockable or non-shockable. Since the invention of Automated External Defibrillators, which are able to analyze the casualty’s cardiac rhythm through the electrode pads and advise if a shock is needed, a lay rescuer can now perform the defibrillation, thus improving survival rates.\n"
     ]
    }
   ],
   "source": [
    "# Code to read one text file and transform it to a json file, just do a loop over ur own folder \n",
    "file_path = '../data/page_texts/3_jerry/page_32.txt'\n",
    "\n",
    "with open(file_path, 'r', encoding='utf-8') as file:\n",
    "    page_content = file.read()\n",
    "    # Append the content to the list\n",
    "    print(page_content)\n",
    "\n",
    "page_dict = {'page_32': {}}\n",
    "page_dict['page_32']['Text'] = page_content\n",
    "page_dict['page_32']['Page'] = int(file_path.split(\"/\")[-1].split(\".\")[0][-2:])\n",
    "\n",
    "json_file_path = '../data/cleaned_pages/3_jerry/page_32.json'\n",
    "os.makedirs(os.path.dirname(json_file_path), exist_ok=True)\n",
    "\n",
    "# Write the dictionary to a JSON file\n",
    "with open(json_file_path, 'w', encoding='utf-8') as json_file:\n",
    "    json.dump(page_dict, json_file, ensure_ascii=False, indent=4)\n"
   ]
  },
  {
   "cell_type": "code",
   "execution_count": null,
   "metadata": {},
   "outputs": [],
   "source": []
  }
 ],
 "metadata": {
  "kernelspec": {
   "display_name": "py310",
   "language": "python",
   "name": "python3"
  },
  "language_info": {
   "codemirror_mode": {
    "name": "ipython",
    "version": 3
   },
   "file_extension": ".py",
   "mimetype": "text/x-python",
   "name": "python",
   "nbconvert_exporter": "python",
   "pygments_lexer": "ipython3",
   "version": "3.10.0"
  }
 },
 "nbformat": 4,
 "nbformat_minor": 2
}
