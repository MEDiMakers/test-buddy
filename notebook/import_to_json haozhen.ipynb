{
 "cells": [
  {
   "cell_type": "code",
   "execution_count": 7,
   "metadata": {},
   "outputs": [],
   "source": [
    "import pandas as pd\n",
    "import json\n",
    "import os"
   ]
  },
  {
   "cell_type": "code",
   "execution_count": 8,
   "metadata": {},
   "outputs": [
    {
     "name": "stdout",
     "output_type": "stream",
     "text": [
      " To treat one’s own complete FBAO, the casualty makes a fist with one hand, places the thumb-side on the abdomen above the navel (2 fingers’ breadth) and below the xiphoid process, grasps the fist with the other, and then presses inward and upward toward the diaphragm with a quick motion.  If unsuccessful, the casualty can also press the upper abdomen over any firm surface such as the back of a chair, side of a table or porch railing. Several abdominal thrusts may be needed to clear the airway. \n"
     ]
    }
   ],
   "source": [
    "# Code to read one text file and transform it to a json file, just do a loop over ur own folder \n",
    "file_path = '../data/page_texts/5_haozhen/page_75.txt'\n",
    "\n",
    "with open(file_path, 'r', encoding='utf-8') as file:\n",
    "    page_content = file.read()\n",
    "    # Append the content to the list\n",
    "    print(page_content)\n",
    "\n",
    "page_dict = {'page_75': {}}\n",
    "page_dict['page_75']['Text'] = page_content\n",
    "page_dict['page_75']['Page'] = int(file_path.split(\"/\")[-1].split(\".\")[0][-2:])\n",
    "\n",
    "json_file_path = '../data/cleaned_pages/5_haozhen/page_75.json'\n",
    "os.makedirs(os.path.dirname(json_file_path), exist_ok=True)\n",
    "\n",
    "# Write the dictionary to a JSON file\n",
    "with open(json_file_path, 'w', encoding='utf-8') as json_file:\n",
    "    json.dump(page_dict, json_file, ensure_ascii=False, indent=4)\n"
   ]
  },
  {
   "cell_type": "code",
   "execution_count": null,
   "metadata": {},
   "outputs": [],
   "source": []
  }
 ],
 "metadata": {
  "kernelspec": {
   "display_name": "py310",
   "language": "python",
   "name": "python3"
  },
  "language_info": {
   "codemirror_mode": {
    "name": "ipython",
    "version": 3
   },
   "file_extension": ".py",
   "mimetype": "text/x-python",
   "name": "python",
   "nbconvert_exporter": "python",
   "pygments_lexer": "ipython3",
   "version": "3.11.7"
  }
 },
 "nbformat": 4,
 "nbformat_minor": 2
}
