{
 "cells": [
  {
   "cell_type": "code",
   "execution_count": 6,
   "metadata": {},
   "outputs": [
    {
     "name": "stdout",
     "output_type": "stream",
     "text": [
      "../data/page_texts/3_jerry/page_31.txt\n",
      "../data/page_texts/3_jerry/page_32.txt\n",
      "../data/page_texts/3_jerry/page_33.txt\n",
      "../data/page_texts/3_jerry/page_34.txt\n",
      "../data/page_texts/3_jerry/page_35.txt\n",
      "../data/page_texts/3_jerry/page_36.txt\n",
      "../data/page_texts/3_jerry/page_37.txt\n",
      "../data/page_texts/3_jerry/page_38.txt\n",
      "../data/page_texts/3_jerry/page_39.txt\n",
      "../data/page_texts/3_jerry/page_40.txt\n",
      "../data/page_texts/3_jerry/page_41.txt\n",
      "../data/page_texts/3_jerry/page_42.txt\n",
      "../data/page_texts/3_jerry/page_43.txt\n",
      "../data/page_texts/3_jerry/page_44.txt\n",
      "../data/page_texts/3_jerry/page_45.txt\n"
     ]
    }
   ],
   "source": [
    "import os\n",
    "import re\n",
    "\n",
    "name = '3_jerry'\n",
    "# Define the folder path containing the text files\n",
    "folder_path = f'../data/page_texts/{name}'\n",
    "\n",
    "# Define the path for the combined output file, including the filename\n",
    "combined_dir_path = f'../data/combined_txts/{name}'\n",
    "combined_file_path = os.path.join(combined_dir_path, 'combined.txt')\n",
    "\n",
    "# Ensure the directory exists\n",
    "os.makedirs(combined_dir_path, exist_ok=True)\n",
    "\n",
    "# Function to extract the numeric part from the filename\n",
    "def extract_number(filename):\n",
    "    match = re.search(r'(\\d+)', filename)\n",
    "    return int(match.group(1)) if match else float('inf')\n",
    "\n",
    "# Get a sorted list of text files based on the numeric part of their names\n",
    "sorted_files = sorted(\n",
    "    [f for f in os.listdir(folder_path) if f.endswith('.txt')],\n",
    "    key=extract_number\n",
    ")\n",
    "\n",
    "# Open the combined file for writing\n",
    "with open(combined_file_path, 'w') as combined_file:\n",
    "    # Iterate over each sorted file and write its contents to the combined file\n",
    "    for filename in sorted_files:\n",
    "        file_path = os.path.join(folder_path, filename)\n",
    "        print(file_path)\n",
    "        with open(file_path, 'r') as file:\n",
    "            combined_file.write(file.read() + '\\n')  # Add newline for separation"
   ]
  },
  {
   "cell_type": "code",
   "execution_count": null,
   "metadata": {},
   "outputs": [],
   "source": []
  }
 ],
 "metadata": {
  "kernelspec": {
   "display_name": "py310",
   "language": "python",
   "name": "python3"
  },
  "language_info": {
   "codemirror_mode": {
    "name": "ipython",
    "version": 3
   },
   "file_extension": ".py",
   "mimetype": "text/x-python",
   "name": "python",
   "nbconvert_exporter": "python",
   "pygments_lexer": "ipython3",
   "version": "3.10.0"
  }
 },
 "nbformat": 4,
 "nbformat_minor": 2
}
