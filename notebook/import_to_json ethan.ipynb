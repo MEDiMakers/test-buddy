{
 "cells": [
  {
   "cell_type": "code",
   "execution_count": 17,
   "metadata": {},
   "outputs": [],
   "source": [
    "import pandas as pd\n",
    "import json\n",
    "import os"
   ]
  },
  {
   "cell_type": "markdown",
   "metadata": {},
   "source": [
    "pages 1-4 done"
   ]
  },
  {
   "cell_type": "code",
   "execution_count": 9,
   "metadata": {},
   "outputs": [],
   "source": [
    "base_folder_path = '../data/page_texts/1_ethan'\n",
    "destination_folder_path = '../data/cleaned_pages/1_ethan'\n",
    "os.makedirs(destination_folder_path, exist_ok=True)\n",
    "\n",
    "# Loop over each file in the base folder\n",
    "for filename in os.listdir(base_folder_path):\n",
    "    file_path = os.path.join(base_folder_path, filename)\n",
    "    with open(file_path, 'r', encoding='utf-8') as file:\n",
    "        page_content = file.read()\n",
    "    page_number = filename.split(\".\")[0][5:] \n",
    "    page_dict = {'page_' + page_number: {}}\n",
    "    page_dict['page_' + page_number]['Text'] = page_content\n",
    "    page_dict['page_' + page_number]['Page'] = int(page_number)\n",
    "    json_file_path = os.path.join(destination_folder_path, f'page_{page_number}.json')\n",
    "    \n",
    "    # Write the dictionary to a JSON file\n",
    "    with open(json_file_path, 'w', encoding='utf-8') as json_file:\n",
    "        json.dump(page_dict, json_file, ensure_ascii=False, indent=4)\n"
   ]
  }
 ],
 "metadata": {
  "kernelspec": {
   "display_name": "py310",
   "language": "python",
   "name": "python3"
  },
  "language_info": {
   "codemirror_mode": {
    "name": "ipython",
    "version": 3
   },
   "file_extension": ".py",
   "mimetype": "text/x-python",
   "name": "python",
   "nbconvert_exporter": "python",
   "pygments_lexer": "ipython3",
   "version": "3.12.3"
  }
 },
 "nbformat": 4,
 "nbformat_minor": 2
}
