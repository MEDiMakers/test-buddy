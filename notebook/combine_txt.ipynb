{
 "cells": [
  {
   "cell_type": "code",
   "execution_count": 3,
   "metadata": {},
   "outputs": [],
   "source": [
    "import pandas as pd\n",
    "import os"
   ]
  },
  {
   "cell_type": "code",
   "execution_count": 14,
   "metadata": {},
   "outputs": [],
   "source": [
    "with open(\"../data/combined_txts/3_jerry/3_jerry_combined.txt\", \"r\", encoding='utf-8') as fin:\n",
    "    text = fin.read()\n",
    "\n",
    "sections = text.split(\"\\n\\n\\n\")"
   ]
  },
  {
   "cell_type": "code",
   "execution_count": 15,
   "metadata": {},
   "outputs": [
    {
     "data": {
      "text/plain": [
       "['3.1: The Importance of Early Defibrillation:\\nAt the time of a sudden cardiac arrest, the most common underlying cardiac rhythm is an irregular and chaotic electrical rhythm (shockable rhythms) called Ventricular Fibrillation (VF) or Ventricular Tachycardia (VT) without pulse. However, not all cardiac arrests present as Ventricular Fibrillation and may appear as other electrical rhythms (for example, asystole which is non-shockable). \\nDuring Ventricular Fibrillation, the heart muscles do not contract effectively and delivery of blood to the rest of the body ceases. The treatment for Ventricular Fibrillation is a shock administered using an Automated External Defibrillator (AED). This shock, together with chest compressions, will reinstate normal heart rhythm and contractility if administered as soon as possible (within 4 minutes). The survival rate decreases by 7-10% for every minute of delay in treating Ventricular Fibrillation. If delayed or untreated, Ventricular Fibrillation eventually degenerates into a fatal rhythm known as asystole where the heart has no electrical activity as reflected by a flat line tracing. At this juncture, the only treatment possible is to administer Cardiopulmonary Resuscitation (CPR). \\nIn the past, only trained doctors, nurses, and paramedics could perform manual defibrillation as it requires the operator to recognize the cardiac rhythm of the casualty, whether it is shockable or non-shockable. Since the invention of Automated External Defibrillators, which are able to analyze the casualty’s cardiac rhythm through the electrode pads and advise if a shock is needed, a lay rescuer can now perform the defibrillation, thus improving survival rates.\\nThe Automated External Defibrillator (AED) should be brought to every person in cardiac arrest. Therefore, when calling 995 for the Singapore Civil Defence Force (SCDF) ambulance, also call for an Automated External Defibrillator by instructing others nearby “Get an Automated External Defibrillator”. However, if you are the lone rescuer, do not leave the casualty. \\nResearch has shown that cardiac arrest casualties with Ventricular Fibrillation (VF) who are treated promptly have the best chances of survival. Similar experiences from around the world have also demonstrated that more lives are saved if early Cardiopulmonary Resuscitation (CPR) is combined with early defibrillation.',\n",
       " '3.2: AUTOMATED EXTERNAL DEFIBRILLATORS (AEDs):\\nAutomated External Defibrillators (AED) are devices that deliver electrical shocks to shockable rhythms like Ventricular Fibrillation (VF) and Pulseless Ventricular Tachycardia (VT), allowing the heart to restore its function. Automated External Defibrillator are defibrillators designed to be small in size, lightweight, and portable. They generally work on similar basic principles and do the following: \\n(a)Analyze the electrical rhythm of the heart. \\n(b)Determine whether the heart needs to be shocked. \\n(c)If a shock is required, it automatically charges to a pre-set energy level. \\n(d)If no shock is required, the device will not charge-up. Deliver electric shocks via attached Automated External Defibrillator pads. \\n(e)Advise the rescuer through voice prompts on key actions to deliver the shock, check the casualty or continue Cardiopulmonary Resuscitation (CPR). \\n(f)Some AEDs provide counting tempo to assist rescuers in chest compressions. ',\n",
       " '3.3: PREPARATION FOR AED USE The rescuer must first ascertain that the scene is safe for use of an Automated External Defibrillator. Avoid the following: \\nMetallic surface - Remove casualty from contact with metal surfaces. These can conduct electric currents to the rescuer. \\nWater - Sweat and moisture are good conductors of electricity and pose danger to the rescuer. It also reduces the adhesion of pads to the chest wall. If the chest is wet, wipe dry quickly with a towel. \\nGas - Flammable gases and oxygen sources are fire hazards. Move the casualty away from these before applying Automated External Defibrillator.\\nSteps in chest preparation and applying the Automated External Defibrillator electrode pads: \\n(1) Expose the chest of the casualty to facilitate application of Automated External Defibrillator electrode pads. If needed, cut away the clothing. \\n(2) If chest hair prevents proper electrode pad placement, shave the hair from these sites promptly. Automated External Defibrillator come with a shaver blade to expedite this. \\n(3) Metallic objects such as necklace and chains should be moved away from the pads. These may result in sparks and potential burns to the chest wall. \\n(4) For casualties with a pacemaker or implanted cardiac defibrillator on the right, apply the pads at least four fingers’ breadth away from these devices. \\n(5) Medication patches or monitoring electrodes on the chest wall should be removed as they may interfere with electrode pads placement. \\n(6) Wipe dry a wet or sweaty chest to ensure proper adhesion of the electrode pads to the chest. Application of Automated External Defibrillator electrode pads to the chest wall must be done quickly with minimal interruptions to chest compressions.',\n",
       " '3.4: PLACEMENT OF Automated External Defibrillator (AED) ELECTRODE PADS: Placement of Automated External Defibrillator Pads:\\nRight Pad: Place one pad on the right side of the chest, just below the right collar bone.\\nLeft Pad: Place the other pad just below and to the left of the left nipple.\\nSteps for Applying Automated External Defibrillator Pads:\\n(1)Open the packet containing Automated External Defibrillator pads with cable and connector.\\n(2)Peel off the protective backing from the pads.\\n(3)Follow the pictures on the pads to determine their correct location on the chest.\\n(4)Press the pads firmly onto the chest wall.\\n(5)Stand clear when the Automated External Defibrillator is analyzing the heart rhythm.\\n(6)Stand clear when pressing the button to deliver the shock.\\nKey Note:\\nMinimize Cardiopulmonary Resuscitation (CPR) interruption when placing Automated External Defibrillator pads and during defibrillation.',\n",
       " '3.5: DEFIBRILLATION PROCEDURES \\n1. The Automated External Defibrillator (AED) will initially analyse the heart’s electrical rhythm. It will give a voice prompt, such as “ANALYSING HEART RHYTHM. DO NOT TOUCH THE CASUALTY.” If you hear this, stop chest compressions. Do not touch the casualty and do not allow others to touch the casualty while the Automated External Defibrillator (AED) is analysing. \\n2. Spread your arms apart and say clearly “Stay Clear”. \\n3. If the casualty has a shockable rhythm, the Automated External Defibrillator (AED) machine will charge automatically. Charging takes a few seconds and may be indicated by a warning tone from the Automated External Defibrillator (AED). No one should touch the casualty during this brief charging phase.\\n4. Once the Automated External Defibrillator (AED) is fully charged, it will prompt “PRESS THE SHOCK BUTTON NOW”. The rescuer then states clearly “Stay Clear”, ensures quickly that no one is touching the casualty, and then presses the shock button on the Automated External Defibrillator (AED) firmly before releasing it. \\n5. Once the shock is delivered, restart chest compressions. Continue the chest compressions until the Automated External Defibrillator (AED) repeats the voice prompt (every 2 minutes): “ANALYSING HEART RHYTHM. DO NOT TOUCH THE CASUALTY.” \\n6. If the Automated External Defibrillator (AED) prompts: “NO SHOCK ADVISED”, the lay rescuer should resume continuous chest compressions until the emergency medical team arrives to take over, or the Automated External Defibrillator (AED) prompts the rescuer not to touch the casualty, or the casualty starts breathing normally. Healthcare providers who are trained and confident in pulse check should check the pulse when the Automated External Defibrillator (AED) prompts to analyse the casualty’s heart rhythm every two minutes, or when breathing or movement is detected. Checking of pulse should not take more than ten seconds. If unsure of the presence of a pulse by the end of ten seconds, the rescuer should resume Cardiopulmonary Resuscitation (CPR). If the pulse is present but not breathing, start rescue breathing. \\n7. Only stop Cardiopulmonary Resuscitation (CPR) when: a. Paramedic takes over from rescuer; or b. Automated External Defibrillator (AED) prompts to analyse the casualty’s heart rhythm, is charging or when shock is to be delivered; or c. Casualty wakes up or regains normal breathing. \\n8. Keep casualty in the same (supine) position and continue to monitor the casualty until help arrives. \\n9. Throughout this period, the Automated External Defibrillator (AED) should remain connected to the casualty.',\n",
       " 'The flowchart below is titled \"Algorithm for One-Rescuer Cardiopulmonary Resuscitation (CPR) and Use of Automated External Defibrillator (AED)\" provides a step-by-step guide for performing Cardiopulmonary Resuscitation (CPR) and using an Automated External Defibrillator (AED). \\nHere is a detailed step-by-step flow of the chart:\\n\\n1. Check for Danger (D):\\nEnsure the area is safe for both the rescuer and the casualty.\\n\\n2. Check Responsiveness (R):\\nTry to get a response from the casualty.\\n\\n3. Shout for Help (S):\\n(a) Shout \"Help!\"\\n(b) Call 995 for Singapore Civil Defence Force Emergency Medical Services (SCDF EMS) and follow the dispatcher’s instructions or activate the emergency response system (for in-facility/in-hospital cardiac arrest).\\n\\n4. Get the Automated External Defibrillator (AED) (A):\\nIf there is another person around, ask him/her to get the Automated External Defibrillator (AED).\\nIf alone, do not leave the casualty.\\n\\n5. Check for Normal Breathing and Pulse (B):\\nLook for the rise and fall of the chest (not more than 10 seconds).\\nIf normal breathing (gasping is not normal breathing) is absent or unsure, start Cardiopulmonary Resuscitation (CPR).\\nHealthcare Provider only: Check for carotid pulse as well.\\n\\n6. Provide Continuous Chest Compressions (C):\\nExpose the chest adequately.\\nPerform chest compressions:\\n    Lower half of sternum\\n    Depth: 4-6 cm\\n    Rate: 100-120 per minute\\n    Allow complete chest recoil\\nHealthcare Provider only: After 30 chest compressions\\n    Head-Tilt, Chin-Lift\\n    Provide 2 ventilations via Bag-Valve-Mask (BVM)\\n    1 second per ventilation\\n    Tidal Volume 400-600 milliliters or chest rises\\n\\n7. Automated External Defibrillator (AED) Arrives:\\n\\nCheck for Automated External Defibrillator (AED) Hazards:\\n    Wet surfaces\\n    Metallic surfaces\\n    Flammable gases nearby\\nContinue Cardiopulmonary Resuscitation (CPR)\\nTurn on the Automated External Defibrillator (AED)\\nEnsure the chest is bare and dry\\nApply pads as printed on the Automated External Defibrillator',\n",
       " '3.6: POST-INCIDENT PROCEDURES:\\nHand-over to emergency services When paramedics take over the casualty, they may require a summary of the events that have occurred:\\n(a) Time of collapse (best estimate)\\n(b) Whether the Automated External Defibrillator (AED) was used How many shocks were given?\\n(c) Any previous medical history and medications, if known.\\n(d) If available, provide a document that lists these events.',\n",
       " 'Assist the paramedics: Until the casualty is loaded into the ambulance.\\nThe Automated External Defibrillator (AED) electrode pads should remain on the casualty while transporting to the hospital.\\nWhat are the duties for the person in charge of the Automated External Defibrillator (AED) after the Automated External Defibrillator (AED) has been used?\\nThe facility or safety manager must be informed of the usage of the Automated External Defibrillator (AED).',\n",
       " 'The person in charge of the Automated External Defibrillator (AED) has the following responsibilities:\\nFor commercial establishments or workplaces, or the local community centre or management office for residential areas:\\n1. For Automated External Defibrillators (AEDs) located in places other than Housing and Development Board (HDB) blocks, they should be returned to the Automated External Defibrillator (AED) owner (building management or security staff) after use.\\n2. Replace the Automated External Defibrillator (AED) consumables such as the electrode pads, shaver kit, towel, and gloves if used (replacement done by the Automated External Defibrillator (AED) owner or Automated External Defibrillator (AED) vendor).\\n3. The Automated External Defibrillator (AED) battery must be checked. Contact the vendor of the Automated External Defibrillator (AED) device for advice on battery replacement.\\n4. If the Automated External Defibrillator (AED) was removed from a box with a key in a thin glass window, the glass may have been broken to retrieve the key. This glass piece would need to be replaced and the key placed back onto the holder. (Replaced by the Automated External Defibrillator (AED) vendor). \\n5. Most Automated External Defibrillators (AEDs) have a chip that records the resuscitation sequence. Get the Automated External Defibrillator (AED) vendor to print the record from this chip. It is useful for audit and quality assurance purposes. \\n6. Automated External Defibrillators (AEDs) are almost maintenance-free. \\n7. The battery indicator on the Automated External Defibrillator (AED) needs to be checked annually (or as advised by the Automated External Defibrillator (AED) vendor) to ensure that it is still functional. Once it gives a low-battery display, steps to replace the battery promptly should be undertaken.',\n",
       " 'For Public Access Automated External Defibrillators (AEDs) from Housing Development Board (HDB):\\n1. Singapore Civil Defence Force (SCDF) Ambulance crew will convey the casualty to the hospital along with the public access Automated External Defibrillator (AED). The used Automated External Defibrillator (AED) will be collected by the contracted vendor at the respective fire stations. The vendor will restock and replace the Automated External Defibrillator (AED) back to its original location.\\n2. Automated External Defibrillators (AEDs) are almost maintenance-free.\\n3. The battery indicator on the Automated External Defibrillator (AED) needs to be checked periodically to ensure that it is still functional. Once it gives a low-battery display, steps to replace the battery promptly should be undertaken (facilitated by Singapore Civil Defence Force (SCDF)/Housing Development Board (HDB)).',\n",
       " 'RETRIEVAL OF AUTOMATED EXTERNAL DEFIBRILLATOR:\\nPublic access Automated External Defibrillators (AEDs) in Singapore are typically secured in a locked box with a break glass mechanism. The glass must be broken to retrieve the key and to unlock the box. \\nDuring emergencies, members of the public responding to potential cardiac arrest cases have been reported to have suffered injuries while retrieving Automated External Defibrillators (AEDs), such as by being cut by glass while breaking the pane of glass or while trying to retrieve the key.\\nA recent survey of cardiac arrest responders who retrieved Automated External Defibrillators (AEDs) conducted locally highlighted that a pattern of injuries exists.',\n",
       " 'The following are recommendations for retrieval of Automated External Defibrillators (AEDs): \\n1. Download the Singapore Civil Defence Force (SCDF) myResponder application! (See Chapter 1.8) Responders with the app have a much better chance to find the nearest defibrillator with the help of the Automated External Defibrillator (AED) map. \\n2. To safely retrieve the Automated External Defibrillator (AED): \\n    a. Do not use your bare hands/elbows to break the glass – most injuries from retrieving occur with breaking the glass. Use personal items instead e.g. mobile phone, shoes, keys etc. to reduce the risk of injuries sustained. \\n    b. Clear all glass fragments around the edges with the object used to break the glass before retrieving the key. Another common mechanism of injury is due to lacerations when reaching for the key inside.',\n",
       " 'SAMPLE PRACTICAL SCENARIOS (FOR ADULTS): \\nThe following scenarios may be used by the instructor to depict possible situations which you may encounter due to the varied nature of an emergency. By practicing these scenarios, you can be more confident to assist a casualty in emergencies. \\n(1) Shock – No Shock – No Shock \\n(2) No Shock – Shock – No Shock \\n(3) Shock – Shock – No Shock \\n(4) No Shock – No Shock – Shock \\n(5) No Shock – No Shock – No Shock\\n\\n']"
      ]
     },
     "execution_count": 15,
     "metadata": {},
     "output_type": "execute_result"
    }
   ],
   "source": [
    "text.split(\"\\n\\n\\n\")"
   ]
  },
  {
   "cell_type": "code",
   "execution_count": 4,
   "metadata": {},
   "outputs": [
    {
     "name": "stdout",
     "output_type": "stream",
     "text": [
      "Combined text has been written to combined_texts.txt\n"
     ]
    }
   ],
   "source": [
    "import json\n",
    "import os\n",
    "\n",
    "def extract_text_from_json(file_path,n):\n",
    "    with open(file_path, 'r', encoding='utf-8') as file:\n",
    "        data = json.load(file)\n",
    "        return data.get(f'page_{n}', {}).get('Text', '')\n",
    "\n",
    "def write_combined_text_to_file(text, output_file):\n",
    "    with open(output_file, 'w', encoding='utf-8') as file:\n",
    "        file.write(text)\n",
    "\n",
    "def combine_texts_from_json_files(directory, output_file):\n",
    "    combined_text = \"\"\n",
    "    for n in range(78,90):\n",
    "        for filename in os.listdir(directory):\n",
    "            if filename.endswith('.json'):\n",
    "                file_path = os.path.join(directory, filename)\n",
    "                combined_text += extract_text_from_json(file_path,n)\n",
    "        combined_text += \"\\n\\n\"\n",
    "    \n",
    "    write_combined_text_to_file(combined_text, output_file)\n",
    "\n",
    "# Directory containing JSON files\n",
    "json_directory = r'D:\\NUS\\health\\data\\cleaned_pages\\6_wenyeong'\n",
    "# Output text file\n",
    "output_text_file = 'combined_texts.txt'\n",
    "\n",
    "combine_texts_from_json_files(json_directory, output_text_file)\n",
    "print(\"Combined text has been written to\", output_text_file)"
   ]
  }
 ],
 "metadata": {
  "kernelspec": {
   "display_name": "Python 3",
   "language": "python",
   "name": "python3"
  },
  "language_info": {
   "codemirror_mode": {
    "name": "ipython",
    "version": 3
   },
   "file_extension": ".py",
   "mimetype": "text/x-python",
   "name": "python",
   "nbconvert_exporter": "python",
   "pygments_lexer": "ipython3",
   "version": "3.10.9"
  }
 },
 "nbformat": 4,
 "nbformat_minor": 2
}
