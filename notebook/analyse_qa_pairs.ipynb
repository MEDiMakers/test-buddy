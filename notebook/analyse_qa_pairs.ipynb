{
 "cells": [
  {
   "cell_type": "code",
   "execution_count": 21,
   "metadata": {},
   "outputs": [],
   "source": [
    "import json\n",
    "import os\n",
    "import pandas as pd\n",
    "from tqdm import trange"
   ]
  },
  {
   "cell_type": "code",
   "execution_count": 28,
   "metadata": {},
   "outputs": [
    {
     "name": "stderr",
     "output_type": "stream",
     "text": [
      "100%|██████████| 350/350 [00:00<00:00, 643298.16it/s]"
     ]
    },
    {
     "name": "stderr",
     "output_type": "stream",
     "text": [
      "\n"
     ]
    }
   ],
   "source": [
    "qa_pair_files = [fname for fname in os.listdir(\"../data\") if fname.startswith(\"QA\")]\n",
    "\n",
    "## Combine the qa pairs\n",
    "all_pairings = []\n",
    "for fname in qa_pair_files:\n",
    "    with open(f\"../data/{fname}\", \"r\", encoding=\"utf-8\") as fin:\n",
    "            pairing = json.load(fin)\n",
    "            all_pairings.extend(pairing)\n",
    "\n",
    "final_pairs = []\n",
    "for i in trange(len(all_pairings)):\n",
    "    try:\n",
    "        pair = {\"Question\": all_pairings[i]['Question'], \"Answer\": all_pairings[i]['Answer']['answer']}\n",
    "    except TypeError:\n",
    "        pair = {\"Question\": all_pairings[i]['Question'], \"Answer\": all_pairings[i]['Answer']}\n",
    "    final_pairs.append(pair)\n",
    "\n",
    "with open(\"../data/Draft_1_pairs.json\", \"w\", encoding=\"utf-8\") as fout:\n",
    "    json.dump(final_pairs, fout, indent=4)\n"
   ]
  },
  {
   "cell_type": "code",
   "execution_count": 25,
   "metadata": {},
   "outputs": [
    {
     "data": {
      "text/plain": [
       "{'Question': 'What is the primary source of oxygen-rich blood for the heart muscles?',\n",
       " 'Answer': 'The primary source of oxygen-rich blood for the heart muscles is via a set of coronary arteries.'}"
      ]
     },
     "execution_count": 25,
     "metadata": {},
     "output_type": "execute_result"
    }
   ],
   "source": [
    "all_pairings[10]"
   ]
  }
 ],
 "metadata": {
  "kernelspec": {
   "display_name": "test_buddy",
   "language": "python",
   "name": "python3"
  },
  "language_info": {
   "codemirror_mode": {
    "name": "ipython",
    "version": 3
   },
   "file_extension": ".py",
   "mimetype": "text/x-python",
   "name": "python",
   "nbconvert_exporter": "python",
   "pygments_lexer": "ipython3",
   "version": "3.10.0"
  }
 },
 "nbformat": 4,
 "nbformat_minor": 2
}
