{
 "cells": [
  {
   "cell_type": "code",
   "execution_count": 21,
   "metadata": {},
   "outputs": [],
   "source": [
    "import json\n",
    "import os\n",
    "import pandas as pd\n",
    "from tqdm import trange"
   ]
  },
  {
   "cell_type": "code",
   "execution_count": 61,
   "metadata": {},
   "outputs": [
    {
     "name": "stderr",
     "output_type": "stream",
     "text": [
      "100%|██████████| 350/350 [00:00<00:00, 736951.00it/s]"
     ]
    },
    {
     "name": "stderr",
     "output_type": "stream",
     "text": [
      "\n"
     ]
    }
   ],
   "source": [
    "qa_pair_files = [fname for fname in os.listdir(\"../data\") if fname.startswith(\"QA\")]\n",
    "\n",
    "## Combine the qa pairs\n",
    "all_pairings = []\n",
    "for fname in qa_pair_files:\n",
    "    with open(f\"../data/{fname}\", \"r\", encoding=\"utf-8\") as fin:\n",
    "            pairing = json.load(fin)\n",
    "            all_pairings.extend(pairing)\n",
    "\n",
    "final_pairs = []\n",
    "for i in trange(len(all_pairings)):\n",
    "    try:\n",
    "        pair = {\"Question\": all_pairings[i]['Question'], \"Answer\": all_pairings[i]['Answer']['answer']}\n",
    "    except TypeError:\n",
    "        if \"title\" in all_pairings[i]['Question']:\n",
    "            pair = {\"Question\": all_pairings[i]['Question']['description'], \"Answer\": all_pairings[i]['Answer']}\n",
    "        else:\n",
    "            pair = {\"Question\": all_pairings[i]['Question'], \"Answer\": all_pairings[i]['Answer']}\n",
    "    final_pairs.append(pair)\n",
    "    \n",
    "for i in range(len(final_pairs)):\n",
    "    if \"title\" in final_pairs[i]['Question']:\n",
    "        final_pairs[i] = {\"Question\": final_pairs[i]['Question']['description'], \"Answer\": final_pairs[i]['Answer']}\n",
    "\n",
    "with open(\"../data/Draft_1_pairs.json\", \"w\", encoding=\"utf-8\") as fout:\n",
    "    json.dump(final_pairs, fout, ensure_ascii=False, indent=4)\n"
   ]
  }
 ],
 "metadata": {
  "kernelspec": {
   "display_name": "test_buddy",
   "language": "python",
   "name": "python3"
  },
  "language_info": {
   "codemirror_mode": {
    "name": "ipython",
    "version": 3
   },
   "file_extension": ".py",
   "mimetype": "text/x-python",
   "name": "python",
   "nbconvert_exporter": "python",
   "pygments_lexer": "ipython3",
   "version": "3.10.0"
  }
 },
 "nbformat": 4,
 "nbformat_minor": 2
}
