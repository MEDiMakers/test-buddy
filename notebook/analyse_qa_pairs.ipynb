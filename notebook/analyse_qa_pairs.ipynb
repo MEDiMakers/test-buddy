{
 "cells": [
  {
   "cell_type": "code",
   "execution_count": 1,
   "metadata": {},
   "outputs": [],
   "source": [
    "import json\n",
    "import os\n",
    "\n",
    "# Combine the generated qa pairs\n",
    "all_pairings = []\n",
    "with open(f\"../data/2_Draft_QA_pairs_generated.json\", \"r\", encoding=\"utf-8\") as fin:\n",
    "            pairing = json.load(fin)\n",
    "            all_pairings.extend(pairing)\n",
    "\n",
    "final_pairs = []\n",
    "for i in range(len(all_pairings)):\n",
    "    try:\n",
    "        pair = {\"Question\": all_pairings[i]['Question'], \"Answer\": all_pairings[i]['Answer']['answer']}\n",
    "    except (TypeError, KeyError):\n",
    "        if \"title\" in all_pairings[i]['Question']:\n",
    "            pair = {\"Question\": all_pairings[i]['Question']['description'], \"Answer\": all_pairings[i]['Answer']}\n",
    "        else:\n",
    "            pair = {\"Question\": all_pairings[i]['Question'], \"Answer\": all_pairings[i]['Answer']}\n",
    "    final_pairs.append(pair)\n",
    "\n",
    "\n",
    "for i in range(len(final_pairs)):\n",
    "    if \"title\" in final_pairs[i]['Question']:\n",
    "        final_pairs[i] = {\"Question\": final_pairs[i]['Question']['description'], \"Answer\": final_pairs[i]['Answer']}\n",
    "\n",
    "for i in range(len(final_pairs)):\n",
    "    if isinstance(final_pairs[i]['Answer'], dict):\n",
    "        final_pairs[i]['Answer'] = list(final_pairs[i]['Answer'].values())[0]\n",
    "\n",
    "with open(\"../data/final_draft_2_pairs.json\", \"w\", encoding=\"utf-8\") as fout:\n",
    "    json.dump(final_pairs, fout, ensure_ascii=False, indent=4)\n"
   ]
  },
  {
   "cell_type": "code",
   "execution_count": 15,
   "metadata": {},
   "outputs": [],
   "source": [
    "fnames = sorted([fname for fname in os.listdir(\"../data/similar_pairs\")], key=lambda x: x)\n",
    "fnames\n",
    "similar_answers = []\n",
    "for i in range(len(fnames)):\n",
    "    with open(f\"../data/similar_pairs/{fnames[i]}\", \"r\", encoding='utf-8') as fin:\n",
    "        data  = json.load(fin)\n",
    "        similar_answers.extend(data)\n",
    "\n",
    "with open(\"../data/similar_answers.json\", \"w\", encoding='utf-8') as fout:\n",
    "    json.dump(similar_answers, fout, indent=4)"
   ]
  },
  {
   "cell_type": "code",
   "execution_count": 18,
   "metadata": {},
   "outputs": [],
   "source": [
    "# Combining the similar and poor answers with the qa pairs\n",
    "with open(\"../data/final_draft_2_pairs.json\", \"r\", encoding='utf-8') as fin:\n",
    "    qa_pairs = json.load(fin)\n",
    "with open(\"../data/similar_answers.json\", \"r\", encoding=\"utf-8\") as fin2:\n",
    "    similar_ans = json.load(fin2)\n",
    "    "
   ]
  },
  {
   "cell_type": "code",
   "execution_count": 21,
   "metadata": {},
   "outputs": [],
   "source": [
    "for i in range(len(qa_pairs)):\n",
    "    qa_pairs[i]['Similar_answers'] = similar_ans[i]['Similar Answers']\n",
    "    qa_pairs[i]['Poor_answers'] = similar_ans[i]['Poor Answers']"
   ]
  },
  {
   "cell_type": "code",
   "execution_count": 23,
   "metadata": {},
   "outputs": [],
   "source": [
    "with open(\"../data/Final_QA_pairs.json\", \"w\", encoding=\"utf-8\") as fout:\n",
    "    json.dump(qa_pairs, fout, indent=4)"
   ]
  }
 ],
 "metadata": {
  "kernelspec": {
   "display_name": "test_buddy",
   "language": "python",
   "name": "python3"
  },
  "language_info": {
   "codemirror_mode": {
    "name": "ipython",
    "version": 3
   },
   "file_extension": ".py",
   "mimetype": "text/x-python",
   "name": "python",
   "nbconvert_exporter": "python",
   "pygments_lexer": "ipython3",
   "version": "3.10.0"
  }
 },
 "nbformat": 4,
 "nbformat_minor": 2
}
