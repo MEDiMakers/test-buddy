{
 "cells": [
  {
   "cell_type": "code",
   "execution_count": 15,
   "metadata": {},
   "outputs": [],
   "source": [
    "import pandas as pd\n",
    "data = pd.read_csv('/Users/ethan/Documents/GitHub/test-buddy/data/finetuning/ce_finetuning_dataset(0-19).csv', header=None)\n",
    "#from row 410 to 544, col 3 -> col 0\n",
    "#from row 545 to 743, col 4 -> col 0, col 5 -> col 2\n",
    "#from row 744 to 1335, col 6 -> col 0, col 5 -> col 2\n",
    "#from row 1336 to 1417, col 7 -> col 0, col 5 -> col 2\n",
    "#from row 1418 to 1736, col 8 -> col 0, col 5 -> col 2\n",
    "data.iloc[410:545, 0] = data.iloc[410:545, 3]\n",
    "data.iloc[545:744, 0] = data.iloc[545:744, 4]\n",
    "data.iloc[545:744, 2] = data.iloc[545:744, 5]\n",
    "data.iloc[744:1336, 0] = data.iloc[744:1336, 6]\n",
    "data.iloc[744:1336, 2] = data.iloc[744:1336, 5]\n",
    "data.iloc[1336:1418, 0] = data.iloc[1336:1418, 7]\n",
    "data.iloc[1336:1418, 2] = data.iloc[1336:1418, 5]\n",
    "data.iloc[1418:1737, 0] = data.iloc[1418:1737, 8]\n",
    "data.iloc[1418:1737, 2] = data.iloc[1418:1737, 5]\n",
    "data = data.iloc[:, [0,1,2]]\n",
    "data.to_csv('/Users/ethan/Documents/GitHub/test-buddy/data/finetuning/ce_finetuning_dataset(0-19)_processed.csv', header=None, index=None)"
   ]
  },
  {
   "cell_type": "code",
   "execution_count": 17,
   "metadata": {},
   "outputs": [],
   "source": [
    "data = pd.read_csv('/Users/ethan/Documents/GitHub/test-buddy/data/finetuning/ce_finetuning_dataset(20-39).csv', header=None)\n",
    "#from row 377 to 961, col 3 -> col 0, col 4 -> col 2\n",
    "#from row 961 to 1119, col 5 -> col 0\n",
    "#from row 1119 to 1630, col 6 -> col 0\n",
    "#from row 1630 to end, col 7 -> col 0\n",
    "data.iloc[377:961, 0] = data.iloc[377:961, 3]\n",
    "data.iloc[377:961, 2] = data.iloc[377:961, 4]\n",
    "data.iloc[961:1119, 0] = data.iloc[961:1119, 5]\n",
    "data.iloc[1119:1630, 0] = data.iloc[1119:1630, 6]\n",
    "data.iloc[1630:, 0] = data.iloc[1630:, 7]\n",
    "data.iloc[1630:, 2] = data.iloc[1630:, 4]\n",
    "\n",
    "data = data.iloc[:, [0, 1, 2]]\n",
    "data.to_csv('/Users/ethan/Documents/GitHub/test-buddy/data/finetuning/ce_finetuning_dataset(20-39)_processed.csv', header=None, index=None)\n",
    "\n"
   ]
  },
  {
   "cell_type": "code",
   "execution_count": 21,
   "metadata": {},
   "outputs": [],
   "source": [
    "data = pd.read_csv('/Users/ethan/Documents/GitHub/test-buddy/data/finetuning/ce_finetuning_dataset(67:68).csv', header=None)\n",
    "data = data.iloc[:80,:]\n",
    "data.to_csv('/Users/ethan/Documents/GitHub/test-buddy/data/finetuning/ce_finetuning_dataset(67:68)_processed.csv', header=None, index=None)"
   ]
  },
  {
   "cell_type": "code",
   "execution_count": 29,
   "metadata": {},
   "outputs": [],
   "source": [
    "data1 = pd.read_csv('/Users/ethan/Documents/GitHub/test-buddy/data/finetuning/ce_finetuning_dataset(0-19)_processed.csv', header=None)\n",
    "data2 = pd.read_csv('/Users/ethan/Documents/GitHub/test-buddy/data/finetuning/ce_finetuning_dataset(20-39)_processed.csv', header=None)\n",
    "data3 = pd.read_csv('/Users/ethan/Documents/GitHub/test-buddy/data/finetuning/ce_finetuning_dataset(40-59).csv', header=None)\n",
    "data4 = pd.read_csv('/Users/ethan/Documents/GitHub/test-buddy/data/finetuning/ce_finetuning_dataset(60:63).csv', header=None)\n",
    "data5 = pd.read_csv('/Users/ethan/Documents/GitHub/test-buddy/data/finetuning/ce_finetuning_dataset(63:67).csv', header=None)\n",
    "data6 = pd.read_csv('/Users/ethan/Documents/GitHub/test-buddy/data/finetuning/ce_finetuning_dataset(67:68)_processed.csv', header=None)\n",
    "data7 = pd.read_csv('/Users/ethan/Documents/GitHub/test-buddy/data/finetuning/ce_finetuning_dataset(68-81).csv', header=None)\n",
    "data = pd.concat([data1, data2, data3, data4, data5, data6, data7])\n",
    "#add col to number each distinct question\n",
    "data['question_num'] = data.groupby(0).ngroup()\n",
    "data.columns = ['query', 'context', 'score', 'question_num']\n",
    "data = data[['question_num','query', 'context', 'score']]\n",
    "data = data.sort_values(['question_num', 'score'], ascending=[True, False])\n",
    "\n",
    "data.to_csv('/Users/ethan/Documents/GitHub/test-buddy/data/finetuning/ce_finetuning_dataset.csv', header=None, index=None)    "
   ]
  }
 ],
 "metadata": {
  "kernelspec": {
   "display_name": "venv",
   "language": "python",
   "name": "python3"
  },
  "language_info": {
   "codemirror_mode": {
    "name": "ipython",
    "version": 3
   },
   "file_extension": ".py",
   "mimetype": "text/x-python",
   "name": "python",
   "nbconvert_exporter": "python",
   "pygments_lexer": "ipython3",
   "version": "3.11.4"
  }
 },
 "nbformat": 4,
 "nbformat_minor": 2
}
