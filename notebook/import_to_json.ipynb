{
 "cells": [
  {
   "cell_type": "code",
   "execution_count": null,
   "metadata": {},
   "outputs": [],
   "source": [
    "import pandas as pd\n",
    "import json\n",
    "import os\n",
    "# Code to read one text file and transform it to a json file, just do a loop over ur own folder \n",
    "file_path = '../data/page_texts/3_jerry/page_32.txt'\n",
    "\n",
    "with open(file_path, 'r', encoding='utf-8') as file:\n",
    "    page_content = file.read()\n",
    "    # Append the content to the list\n",
    "    print(page_content)\n",
    "\n",
    "page_dict = {'page_32': {}}\n",
    "page_dict['page_32']['Text'] = page_content\n",
    "page_dict['page_32']['Page'] = int(file_path.split(\"/\")[-1].split(\".\")[0][-2:])\n",
    "\n",
    "json_file_path = '../data/cleaned_pages/3_jerry/page_32.json'\n",
    "os.makedirs(os.path.dirname(json_file_path), exist_ok=True)\n",
    "\n",
    "# Write the dictionary to a JSON file\n",
    "with open(json_file_path, 'w', encoding='utf-8') as json_file:\n",
    "    json.dump(page_dict, json_file, ensure_ascii=False, indent=4)"
   ]
  }
 ],
 "metadata": {
  "kernelspec": {
   "display_name": "py310",
   "language": "python",
   "name": "python3"
  },
  "language_info": {
   "codemirror_mode": {
    "name": "ipython",
    "version": 3
   },
   "file_extension": ".py",
   "mimetype": "text/x-python",
   "name": "python",
   "nbconvert_exporter": "python",
   "pygments_lexer": "ipython3",
   "version": "3.10.0"
  }
 },
 "nbformat": 4,
 "nbformat_minor": 2
}
