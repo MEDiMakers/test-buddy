{
 "cells": [
  {
   "cell_type": "code",
   "execution_count": 1,
   "metadata": {},
   "outputs": [],
   "source": [
    "import glob,os\n",
    "import spacy\n",
    "import json\n",
    "from pathlib import Path\n",
    "import re"
   ]
  },
  {
   "cell_type": "code",
   "execution_count": 2,
   "metadata": {},
   "outputs": [],
   "source": [
    "#nlp = spacy.load('en_core_web_sm')"
   ]
  },
  {
   "cell_type": "code",
   "execution_count": 3,
   "metadata": {},
   "outputs": [],
   "source": [
    "path = r\"C:\\Users\\acer\\Downloads\\MEDiMakers test-buddy main data-page_texts_2_rikhil\""
   ]
  },
  {
   "cell_type": "code",
   "execution_count": 4,
   "metadata": {},
   "outputs": [],
   "source": [
    "file_paths = []\n",
    "for f in os.listdir(path):\n",
    "    file_paths.append((os.path.join(path,f)))"
   ]
  },
  {
   "cell_type": "code",
   "execution_count": 148,
   "metadata": {},
   "outputs": [],
   "source": [
    "for file in file_paths:\n",
    "    name = Path(file).stem \n",
    "    figs = []\n",
    "    if name.endswith((\"17\",\"30\")):\n",
    "        continue\n",
    "    with open(file,'r',encoding='utf-8') as f:\n",
    "        text = \"\".join((f.readlines()))\n",
    "        parsed_txt = (list(filter(lambda x:len(x)>5,text.split(\". \"))))\n",
    "        cleaned_txt = (\".\\n\".join(parsed_txt))\n",
    "        figs+=(re.findall(\"Fig.*? \\d-\\d*\",cleaned_txt)) # replace instances of figures w just the number in a N.NN format\n",
    "        figs+=(re.findall(\"\\(S.* figure.*?\\d-\\d*\\)|\\(see figure.*?\\d-\\d*\\)\",cleaned_txt)) # remove references to figures >> rmv (see fig ...)\n",
    "        for k in figs:\n",
    "            if k.startswith(\"Fig\"):\n",
    "                n = re.findall(\"\\d+\",k)\n",
    "                cleaned_txt = cleaned_txt.replace(k,f\"{n[0]}.{n[1]}\")\n",
    "            else:\n",
    "                cleaned_txt = cleaned_txt.replace(k,\"\")\n",
    "        if \"&\" in cleaned_txt:\n",
    "            cleaned_txt =  cleaned_txt.replace(\"&\",'and') # replace ampersand with &\n",
    "        if len(re.findall(\"\\so\\s\",cleaned_txt))>0:\n",
    "            cleaned_txt = (re.sub(r\"(\\s)o(\\s)\",r\"\\1-\\2\",cleaned_txt)) # standardise bullet points (o) with hypen (-)\n",
    "\n",
    "        cleaned_txt = (re.sub(\"\\uf0a9\",\"-\",cleaned_txt)) # change non-unicode recognised bulletpoints w hyphen\n",
    "    with open(file,'w',encoding='utf-8') as f: # write to same file\n",
    "        f.write(cleaned_txt)    # manual checks performed o this stage\n",
    "        #sentences = [i.text for i in nlp(text).sents] \n",
    "        #print(\"\\n\".join(sentences))\n",
    "        #data[name] = info \n",
    "    #with open(f\"{name}.json\",'w',encoding='utf-8') as g:\n",
    "        #json.dump(data,g,ensure_ascii=False)"
   ]
  },
  {
   "cell_type": "code",
   "execution_count": 160,
   "metadata": {},
   "outputs": [],
   "source": [
    "# dump json info after consolidated\n",
    "for file in file_paths:\n",
    "    name = Path(file).stem \n",
    "    pg = (name.split(\"_\")[-1])\n",
    "    data = {name:{}}\n",
    "    info = {}\n",
    "    if name.endswith((\"17\",\"30\")):\n",
    "        continue\n",
    "    with open(file,'r',encoding='utf-8') as f:\n",
    "        content = (\"\".join(f.readlines()))\n",
    "        data[name][\"Text\"] = content \n",
    "        data[name][\"Page\"] = str(pg) \n",
    "    with open(f\"{name}.json\",'w',encoding='utf-8') as j:\n",
    "        json.dump(data,j,ensure_ascii=False,indent=4)"
   ]
  }
 ],
 "metadata": {
  "kernelspec": {
   "display_name": "Python 3",
   "language": "python",
   "name": "python3"
  },
  "language_info": {
   "codemirror_mode": {
    "name": "ipython",
    "version": 3
   },
   "file_extension": ".py",
   "mimetype": "text/x-python",
   "name": "python",
   "nbconvert_exporter": "python",
   "pygments_lexer": "ipython3",
   "version": "3.11.4"
  }
 },
 "nbformat": 4,
 "nbformat_minor": 2
}
