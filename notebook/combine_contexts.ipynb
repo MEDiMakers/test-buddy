{
 "cells": [
  {
   "cell_type": "code",
   "execution_count": 2,
   "metadata": {},
   "outputs": [],
   "source": [
    "import os\n",
    "import json\n",
    "fnames = [os.listdir(\"../data/combined_txts\")][0]\n",
    "\n",
    "all_texts = \"\"\n",
    "for i in range(len(fnames)):\n",
    "    with open(f\"../data/combined_txts/{fnames[i]}\", \"r\", encoding='utf-8') as fin:\n",
    "        text = fin.read()\n",
    "        all_texts += text + \"\\n\\n\\n\"\n",
    "        \n",
    "with open(\"../data/combined_txts/combined_output.txt\", \"w\", encoding='utf-8') as fout:\n",
    "    fout.write(all_texts)"
   ]
  }
 ],
 "metadata": {
  "kernelspec": {
   "display_name": "test_buddy",
   "language": "python",
   "name": "python3"
  },
  "language_info": {
   "codemirror_mode": {
    "name": "ipython",
    "version": 3
   },
   "file_extension": ".py",
   "mimetype": "text/x-python",
   "name": "python",
   "nbconvert_exporter": "python",
   "pygments_lexer": "ipython3",
   "version": "3.10.0"
  }
 },
 "nbformat": 4,
 "nbformat_minor": 2
}
